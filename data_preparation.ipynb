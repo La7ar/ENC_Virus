{
 "cells": [
  {
   "cell_type": "markdown",
   "metadata": {
    "id": "4AxzmSJ3oY91"
   },
   "source": [
    "#Set Environment"
   ]
  },
  {
   "cell_type": "code",
   "execution_count": 1,
   "metadata": {
    "id": "_yWIpO0nWb2q"
   },
   "outputs": [
    {
     "name": "stderr",
     "output_type": "stream",
     "text": [
      "UsageError: Cell magic `%%R` not found.\n"
     ]
    }
   ],
   "source": [
    "%%R"
   ]
  },
  {
   "cell_type": "code",
   "execution_count": 6,
   "metadata": {
    "id": "V9kSDpBtbiSy"
   },
   "outputs": [],
   "source": [
    "library(Biostrings)\n",
    "library(data.table)\n",
    "library(coRdon)\n",
    "library(dplyr)"
   ]
  },
  {
   "cell_type": "code",
   "execution_count": 4,
   "metadata": {
    "id": "Okev7q7UWD0A"
   },
   "outputs": [],
   "source": [
    "extract_gene_sequences <- function(genome_fasta, gene_tsv) {\n",
    "  valid_names <- intersect(names(genome_fasta), gene_tsv$seqid)\n",
    "  Gene_tsv <- gene_tsv[seqid %in% valid_names]\n",
    "  \n",
    "  # Remove any sequence identifiers in genome_fasta that are not present in gene_tsv\n",
    "  genome_fasta <- genome_fasta[names(genome_fasta) %in% valid_names]\n",
    "  \n",
    "  Gene_fasta <- genome_fasta[Gene_tsv$seqid]\n",
    "  Gene_fasta <- narrow(Gene_fasta, start = Gene_tsv$start, end = Gene_tsv$end)\n",
    "  names(Gene_fasta) <- Gene_tsv$ORFID\n",
    "  return(Gene_fasta)\n",
    "}"
   ]
  },
  {
   "cell_type": "code",
   "execution_count": null,
   "metadata": {
    "id": "I3EWwT7HboVR"
   },
   "outputs": [],
   "source": [
    "genome_fasta <- readDNAStringSet(\"Downloads/RiboV1.4/RiboV1.4_Contigs.fasta\")\n",
    "gene_tsv <- fread(\"Downloads/RiboV1.4/Simplified_AllORFsInfo.tsv\")\n",
    "Gene_fasta <- extract_gene_sequences(genome_fasta, gene_tsv)\n",
    "\n",
    "valid_names <- intersect(names(genome_fasta), gene_tsv$seqid)\n",
    "Gene_tsv <- gene_tsv[seqid %in% valid_names]\n",
    "frw <- which(Gene_tsv$strand == \"+\")\n",
    "rev <- which(Gene_tsv$strand == \"-\")\n",
    "# Now Gene_tsv has the same number of recoreds as Gene_fasta\n",
    "Gene_tsv$ENC <- -1 \n",
    "Gene_tsv$ENC[frw] <-  ENC(codonTable(Gene_fasta[frw]))\n",
    "Gene_tsv$ENC[rev] <-  ENC(codonTable(reverseComplement(Gene_fasta[rev])))"
   ]
  }
 ],
 "metadata": {
  "colab": {
   "provenance": []
  },
  "kernelspec": {
   "display_name": "Python 3 (ipykernel)",
   "language": "python",
   "name": "python3"
  },
  "language_info": {
   "codemirror_mode": {
    "name": "ipython",
    "version": 3
   },
   "file_extension": ".py",
   "mimetype": "text/x-python",
   "name": "python",
   "nbconvert_exporter": "python",
   "pygments_lexer": "ipython3",
   "version": "3.11.4"
  }
 },
 "nbformat": 4,
 "nbformat_minor": 4
}
