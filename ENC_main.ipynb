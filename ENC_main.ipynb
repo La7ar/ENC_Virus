{
  "nbformat": 4,
  "nbformat_minor": 0,
  "metadata": {
    "colab": {
      "provenance": []
    },
    "kernelspec": {
      "name": "python3",
      "display_name": "Python 3"
    },
    "language_info": {
      "name": "python"
    }
  },
  "cells": [
    {
      "cell_type": "markdown",
      "source": [
        "#Set Environment"
      ],
      "metadata": {
        "id": "4AxzmSJ3oY91"
      }
    },
    {
      "cell_type": "code",
      "source": [
        "%%bash\n",
        "pip install itables\n",
        "pip install matplotlib\n",
        "pip install pandas\n",
        "pip install scipy\n",
        "pip install numpy\n",
        "pip install seaborn"
      ],
      "metadata": {
        "id": "_yWIpO0nWb2q"
      },
      "execution_count": null,
      "outputs": []
    },
    {
      "cell_type": "markdown",
      "source": [
        "#Import libraries"
      ],
      "metadata": {
        "id": "DXBEreF-oPcP"
      }
    },
    {
      "cell_type": "code",
      "source": [
        "import os as os\n",
        "import pandas as pd\n",
        "import numpy as np\n",
        "import scipy.stats\n",
        "from scipy.stats import shapiro\n",
        "import seaborn as sns\n",
        "import matplotlib.pyplot as plt\n",
        "import shutil\n",
        "import glob as glob\n",
        "import itables\n",
        "from itables import init_notebook_mode\n",
        "init_notebook_mode(all_interactive=True)"
      ],
      "metadata": {
        "id": "V9kSDpBtbiSy"
      },
      "execution_count": 6,
      "outputs": []
    },
    {
      "cell_type": "markdown",
      "source": [
        "#Define functions"
      ],
      "metadata": {
        "id": "1zE7eaysb3NY"
      }
    },
    {
      "cell_type": "code",
      "execution_count": 4,
      "metadata": {
        "id": "Okev7q7UWD0A"
      },
      "outputs": [],
      "source": [
        "def count_number_of_unique_struct_columns_by_value(df):\n",
        "    \"\"\"\n",
        "    Count the occurrences of each unique value in the 'struct' column of the DataFrame.\n",
        "\n",
        "    Parameters:\n",
        "        df (DataFrame): The input DataFrame.\n",
        "\n",
        "    Returns:\n",
        "        Series: A Series containing the count of occurrences for each unique value in the 'struct' column.\n",
        "    \"\"\"\n",
        "    return df.groupby('struct')['struct'].count()\n",
        "\n",
        "def classify_struct_of_genes(df):\n",
        "    \"\"\"\n",
        "    Classify the 'struct' column of the DataFrame based on the 'New_Name' column.\n",
        "\n",
        "    Parameters:\n",
        "        df (DataFrame): The input DataFrame.\n",
        "\n",
        "    Returns:\n",
        "        DataFrame: A copy of the input DataFrame with a new 'struct' column containing the classifications.\n",
        "    \"\"\"\n",
        "    df2 = df.copy()\n",
        "    list_of_struct = [\"CP\", \"Coat\", \"Glycoprotein\", \"Nucleoprotein\", \"Membrane\", \"Capsid\", \"Envelope\"]\n",
        "    list_of_non_struct = [\"RdRp\", \"Helicase\", \"Polymerase\", \"Methyltransferase\", \"Cap_MTase-GTase\", \"MTase\", \"GTase\", \"Pro\", \"Maturation\"]\n",
        "    df2['struct'] = np.where(df2['New_Name'].str.lower().str.contains('|'.join(map(str.lower, list_of_struct))), 'Structural',\n",
        "                            np.where(df2['New_Name'].str.lower().str.contains('|'.join(map(str.lower, list_of_non_struct))), 'Non-Structural', 'Unknown'))\n",
        "    return df2\n",
        "\n",
        "def intersect_genes_by_ORFID(df1, df2):\n",
        "    \"\"\"\n",
        "    Get the intersection of two DataFrames based on the 'ORFID' column.\n",
        "\n",
        "    Parameters:\n",
        "        df1 (DataFrame): First input DataFrame.\n",
        "        df2 (DataFrame): Second input DataFrame.\n",
        "\n",
        "    Returns:\n",
        "        DataFrame: A new DataFrame containing the intersection of the two DataFrames.\n",
        "    \"\"\"\n",
        "    return df1[df1['ORFID'].isin(df2['ORFID'])]\n",
        "\n",
        "def set_struct_column_to_unknown_if_ORFID_not_in_hmm(genes, hmm_with_struct):\n",
        "    \"\"\"\n",
        "    Set the 'struct' column to 'Unknown' for genes not present in the 'hmm_with_struct' DataFrame.\n",
        "\n",
        "    Parameters:\n",
        "        genes (DataFrame): The input DataFrame containing genes.\n",
        "        hmm_with_struct (DataFrame): DataFrame with genes classified based on structure.\n",
        "\n",
        "    Returns:\n",
        "        DataFrame: The genes DataFrame with the 'struct' column updated to 'Unknown' for unmatched ORFIDs.\n",
        "    \"\"\"\n",
        "    hmm_with_struct['struct'] = np.where(genes['ORFID'].isin(hmm_with_struct['ORFID']), hmm_with_struct['struct'], 'Unknown')\n",
        "    return genes\n",
        "\n",
        "def remove_row_if_ORFID_not_in_genes(hmm_with_struct, genes):\n",
        "    \"\"\"\n",
        "    Remove rows from 'hmm_with_struct' DataFrame if 'ORFID' is not present in the 'genes' DataFrame.\n",
        "\n",
        "    Parameters:\n",
        "        hmm_with_struct (DataFrame): DataFrame with genes classified based on structure.\n",
        "        genes (DataFrame): The input DataFrame containing genes.\n",
        "\n",
        "    Returns:\n",
        "        DataFrame: The 'hmm_with_struct' DataFrame with rows removed for unmatched ORFIDs.\n",
        "    \"\"\"\n",
        "    return hmm_with_struct[hmm_with_struct['ORFID'].isin(genes['ORFID'])]\n",
        "\n",
        "def remove_lines_of_uncompleted_genes(df):\n",
        "    \"\"\"\n",
        "    Remove rows from DataFrame where the 'partial' column contains specific values.\n",
        "\n",
        "    Parameters:\n",
        "        df (DataFrame): The input DataFrame.\n",
        "\n",
        "    Returns:\n",
        "        DataFrame: A new DataFrame with rows removed based on the 'partial' column conditions.\n",
        "    \"\"\"\n",
        "    return df[~df['partial'].astype(str).isin(['01', '10', '1', '11'])]\n"
      ]
    },
    {
      "cell_type": "code",
      "source": [
        "# Loading data from CSV files\n",
        "genome_enc = pd.read_csv(\"~/Downloads/genome_enc.csv\")\n",
        "genes = pd.read_csv(\"~/Downloads/Gene_tsv.tsv\", sep=\",\")\n",
        "genes.drop(genes.columns[0], axis=1, inplace=True)\n",
        "hmm = pd.read_csv(\"~/Downloads/RiboV1.4/RiboV1.4_HMMatches.tsv\", sep=\"\\t\")"
      ],
      "metadata": {
        "id": "I3EWwT7HboVR"
      },
      "execution_count": null,
      "outputs": []
    },
    {
      "cell_type": "code",
      "source": [
        "# Classify genes based on 'hmm' and 'genes' dataframes\n",
        "hmm_with_struct = classify_struct_of_genes(hmm)\n",
        "complete_genes = remove_lines_of_uncompleted_genes(genes)\n",
        "hmm_with_struct_without_unkown = hmm_with_struct[hmm_with_struct['struct'] != 'Unknown']"
      ],
      "metadata": {
        "id": "mM1-nDSMo0II"
      },
      "execution_count": null,
      "outputs": []
    },
    {
      "cell_type": "code",
      "source": [
        "# Need for final report\n",
        "hmm_with_struct['struct'].value_counts()\n",
        "\n",
        "complete_genes_sorted = complete_genes.sort_values(by=['seqid', 'ENC'])\n",
        "complete_genes_sorted['ENC_rank'] = complete_genes_sorted.groupby('seqid')['ENC'].rank().astype(int)\n",
        "\n",
        "hmm_with_struct_slim = hmm_with_struct[['ORFID', 'struct', 'Family', 'New_Name']].drop_duplicates()\n",
        "hmm_with_struct_slim = hmm_with_struct_slim.drop_duplicates(subset='ORFID', keep=False, inplace=False)\n",
        "\n",
        "hmm_genes = pd.merge(complete_genes_sorted, hmm_with_struct_slim, on='ORFID', how='inner')\n",
        "hmm_genes['prop_ENC'] = hmm_genes['ENC'] / hmm_genes.groupby('seqid')['ENC'].transform('max')"
      ],
      "metadata": {
        "id": "n_DMgA4Fozoc"
      },
      "execution_count": null,
      "outputs": []
    }
  ]
}